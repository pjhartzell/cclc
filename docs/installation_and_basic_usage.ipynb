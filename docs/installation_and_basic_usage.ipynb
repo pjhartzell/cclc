{
    "cells": [
        {
            "cell_type": "markdown",
            "metadata": {},
            "source": [
                "# Tutorial: Working with this stactools subpackage\n",
                "\n",
                "Stactools ([docs](https://stactools.readthedocs.io/en/latest/), [source](https://github.com/stac-utils/stactools)) is a command line tool and library for working with [STAC](https://stacspec.org/), based on [PySTAC](https://github.com/stac-utils/pystac).\n",
                "\n",
                "[Stactools dataset packages](https://github.com/stactools-packages) are add-ons for stactools that provide STAC functionality for specific datasets, such as [Sentinel 2](https://github.com/stactools-packages/sentinel2) and [Landsat](https://github.com/stactools-packages/landsat).\n",
                "\n",
                "Stactools and its dataset packages can be accessed from the CLI or from within normal Python code. This notebook provides examples of both."
            ]
        },
        {
            "cell_type": "markdown",
            "metadata": {},
            "source": [
                "## 1. Using this notebook\n",
                "\n",
                "The easiest way to use this notebook is to run it through `scripts/notebook`. This will create a Docker container already set up with the prerequisites and open the stactools dataset folder. Navigate to `docs/` to find this notebook.\n",
                "\n",
                "If you wish to use this notebook outside of the container (such as on mybinder.org) then please install the prerequisites using:"
            ]
        },
        {
            "cell_type": "code",
            "execution_count": 1,
            "metadata": {},
            "outputs": [
                {
                    "name": "stdout",
                    "output_type": "stream",
                    "text": [
                        "Requirement already satisfied: stactools-chesapeake in /Users/pjh/dev/chesapeake/src (0.1.0)\n",
                        "Requirement already satisfied: stactools>=0.2.6 in /Users/pjh/miniconda3/envs/stactools-chesapeake/lib/python3.10/site-packages (from stactools-chesapeake) (0.3.0)\n",
                        "Requirement already satisfied: lxml>=4.6 in /Users/pjh/miniconda3/envs/stactools-chesapeake/lib/python3.10/site-packages (from stactools>=0.2.6->stactools-chesapeake) (4.8.0)\n",
                        "Requirement already satisfied: Shapely>=1.6 in /Users/pjh/miniconda3/envs/stactools-chesapeake/lib/python3.10/site-packages (from stactools>=0.2.6->stactools-chesapeake) (1.8.0)\n",
                        "Requirement already satisfied: numpy>=1.21.0 in /Users/pjh/miniconda3/envs/stactools-chesapeake/lib/python3.10/site-packages (from stactools>=0.2.6->stactools-chesapeake) (1.22.3)\n",
                        "Requirement already satisfied: pyproj>=3.0 in /Users/pjh/miniconda3/envs/stactools-chesapeake/lib/python3.10/site-packages (from stactools>=0.2.6->stactools-chesapeake) (3.3.0)\n",
                        "Requirement already satisfied: fsspec>=2021.7 in /Users/pjh/miniconda3/envs/stactools-chesapeake/lib/python3.10/site-packages (from stactools>=0.2.6->stactools-chesapeake) (2022.3.0)\n",
                        "Requirement already satisfied: click>=8.0.4 in /Users/pjh/miniconda3/envs/stactools-chesapeake/lib/python3.10/site-packages (from stactools>=0.2.6->stactools-chesapeake) (8.1.2)\n",
                        "Requirement already satisfied: stac-check>=1.1.3 in /Users/pjh/miniconda3/envs/stactools-chesapeake/lib/python3.10/site-packages (from stactools>=0.2.6->stactools-chesapeake) (1.1.3)\n",
                        "Requirement already satisfied: rasterio>=1.2.9 in /Users/pjh/miniconda3/envs/stactools-chesapeake/lib/python3.10/site-packages (from stactools>=0.2.6->stactools-chesapeake) (1.2.10)\n",
                        "Requirement already satisfied: aiohttp>=3.8 in /Users/pjh/miniconda3/envs/stactools-chesapeake/lib/python3.10/site-packages (from stactools>=0.2.6->stactools-chesapeake) (3.8.1)\n",
                        "Requirement already satisfied: requests>=2.20 in /Users/pjh/miniconda3/envs/stactools-chesapeake/lib/python3.10/site-packages (from stactools>=0.2.6->stactools-chesapeake) (2.27.1)\n",
                        "Requirement already satisfied: pystac[validation]>=1.2 in /Users/pjh/miniconda3/envs/stactools-chesapeake/lib/python3.10/site-packages (from stactools>=0.2.6->stactools-chesapeake) (1.4.0)\n",
                        "Requirement already satisfied: multidict<7.0,>=4.5 in /Users/pjh/miniconda3/envs/stactools-chesapeake/lib/python3.10/site-packages (from aiohttp>=3.8->stactools>=0.2.6->stactools-chesapeake) (6.0.2)\n",
                        "Requirement already satisfied: frozenlist>=1.1.1 in /Users/pjh/miniconda3/envs/stactools-chesapeake/lib/python3.10/site-packages (from aiohttp>=3.8->stactools>=0.2.6->stactools-chesapeake) (1.3.0)\n",
                        "Requirement already satisfied: yarl<2.0,>=1.0 in /Users/pjh/miniconda3/envs/stactools-chesapeake/lib/python3.10/site-packages (from aiohttp>=3.8->stactools>=0.2.6->stactools-chesapeake) (1.7.2)\n",
                        "Requirement already satisfied: attrs>=17.3.0 in /Users/pjh/miniconda3/envs/stactools-chesapeake/lib/python3.10/site-packages (from aiohttp>=3.8->stactools>=0.2.6->stactools-chesapeake) (21.4.0)\n",
                        "Requirement already satisfied: async-timeout<5.0,>=4.0.0a3 in /Users/pjh/miniconda3/envs/stactools-chesapeake/lib/python3.10/site-packages (from aiohttp>=3.8->stactools>=0.2.6->stactools-chesapeake) (4.0.2)\n",
                        "Requirement already satisfied: charset-normalizer<3.0,>=2.0 in /Users/pjh/miniconda3/envs/stactools-chesapeake/lib/python3.10/site-packages (from aiohttp>=3.8->stactools>=0.2.6->stactools-chesapeake) (2.0.12)\n",
                        "Requirement already satisfied: aiosignal>=1.1.2 in /Users/pjh/miniconda3/envs/stactools-chesapeake/lib/python3.10/site-packages (from aiohttp>=3.8->stactools>=0.2.6->stactools-chesapeake) (1.2.0)\n",
                        "Requirement already satisfied: certifi in /Users/pjh/miniconda3/envs/stactools-chesapeake/lib/python3.10/site-packages (from pyproj>=3.0->stactools>=0.2.6->stactools-chesapeake) (2021.10.8)\n",
                        "Requirement already satisfied: python-dateutil>=2.7.0 in /Users/pjh/miniconda3/envs/stactools-chesapeake/lib/python3.10/site-packages (from pystac[validation]>=1.2->stactools>=0.2.6->stactools-chesapeake) (2.8.2)\n",
                        "Requirement already satisfied: jsonschema>=3.0 in /Users/pjh/miniconda3/envs/stactools-chesapeake/lib/python3.10/site-packages (from pystac[validation]>=1.2->stactools>=0.2.6->stactools-chesapeake) (4.4.0)\n",
                        "Requirement already satisfied: cligj>=0.5 in /Users/pjh/miniconda3/envs/stactools-chesapeake/lib/python3.10/site-packages (from rasterio>=1.2.9->stactools>=0.2.6->stactools-chesapeake) (0.7.2)\n",
                        "Requirement already satisfied: click-plugins in /Users/pjh/miniconda3/envs/stactools-chesapeake/lib/python3.10/site-packages (from rasterio>=1.2.9->stactools>=0.2.6->stactools-chesapeake) (1.1.1)\n",
                        "Requirement already satisfied: snuggs>=1.4.1 in /Users/pjh/miniconda3/envs/stactools-chesapeake/lib/python3.10/site-packages (from rasterio>=1.2.9->stactools>=0.2.6->stactools-chesapeake) (1.4.7)\n",
                        "Requirement already satisfied: setuptools in /Users/pjh/miniconda3/envs/stactools-chesapeake/lib/python3.10/site-packages (from rasterio>=1.2.9->stactools>=0.2.6->stactools-chesapeake) (62.1.0)\n",
                        "Requirement already satisfied: affine in /Users/pjh/miniconda3/envs/stactools-chesapeake/lib/python3.10/site-packages (from rasterio>=1.2.9->stactools>=0.2.6->stactools-chesapeake) (2.3.1)\n",
                        "Requirement already satisfied: idna<4,>=2.5 in /Users/pjh/miniconda3/envs/stactools-chesapeake/lib/python3.10/site-packages (from requests>=2.20->stactools>=0.2.6->stactools-chesapeake) (3.3)\n",
                        "Requirement already satisfied: urllib3<1.27,>=1.21.1 in /Users/pjh/miniconda3/envs/stactools-chesapeake/lib/python3.10/site-packages (from requests>=2.20->stactools>=0.2.6->stactools-chesapeake) (1.26.9)\n",
                        "Requirement already satisfied: stac-validator>=2.4.2 in /Users/pjh/miniconda3/envs/stactools-chesapeake/lib/python3.10/site-packages (from stac-check>=1.1.3->stactools>=0.2.6->stactools-chesapeake) (3.0.0)\n",
                        "Requirement already satisfied: pytest in /Users/pjh/miniconda3/envs/stactools-chesapeake/lib/python3.10/site-packages (from stac-check>=1.1.3->stactools>=0.2.6->stactools-chesapeake) (7.1.1)\n",
                        "Requirement already satisfied: pyrsistent!=0.17.0,!=0.17.1,!=0.17.2,>=0.14.0 in /Users/pjh/miniconda3/envs/stactools-chesapeake/lib/python3.10/site-packages (from jsonschema>=3.0->pystac[validation]>=1.2->stactools>=0.2.6->stactools-chesapeake) (0.18.1)\n",
                        "Requirement already satisfied: six>=1.5 in /Users/pjh/miniconda3/envs/stactools-chesapeake/lib/python3.10/site-packages (from python-dateutil>=2.7.0->pystac[validation]>=1.2->stactools>=0.2.6->stactools-chesapeake) (1.16.0)\n",
                        "Requirement already satisfied: pyparsing>=2.1.6 in /Users/pjh/miniconda3/envs/stactools-chesapeake/lib/python3.10/site-packages (from snuggs>=1.4.1->rasterio>=1.2.9->stactools>=0.2.6->stactools-chesapeake) (3.0.8)\n",
                        "Requirement already satisfied: pluggy<2.0,>=0.12 in /Users/pjh/miniconda3/envs/stactools-chesapeake/lib/python3.10/site-packages (from pytest->stac-check>=1.1.3->stactools>=0.2.6->stactools-chesapeake) (1.0.0)\n",
                        "Requirement already satisfied: iniconfig in /Users/pjh/miniconda3/envs/stactools-chesapeake/lib/python3.10/site-packages (from pytest->stac-check>=1.1.3->stactools>=0.2.6->stactools-chesapeake) (1.1.1)\n",
                        "Requirement already satisfied: py>=1.8.2 in /Users/pjh/miniconda3/envs/stactools-chesapeake/lib/python3.10/site-packages (from pytest->stac-check>=1.1.3->stactools>=0.2.6->stactools-chesapeake) (1.11.0)\n",
                        "Requirement already satisfied: tomli>=1.0.0 in /Users/pjh/miniconda3/envs/stactools-chesapeake/lib/python3.10/site-packages (from pytest->stac-check>=1.1.3->stactools>=0.2.6->stactools-chesapeake) (2.0.1)\n",
                        "Requirement already satisfied: packaging in /Users/pjh/miniconda3/envs/stactools-chesapeake/lib/python3.10/site-packages (from pytest->stac-check>=1.1.3->stactools>=0.2.6->stactools-chesapeake) (21.3)\n"
                    ]
                }
            ],
            "source": [
                "!pip install stactools-chesapeake"
            ]
        },
        {
            "cell_type": "markdown",
            "metadata": {},
            "source": [
                "## 2. Using the stactools dataset package from the CLI"
            ]
        },
        {
            "cell_type": "markdown",
            "metadata": {},
            "source": [
                "The first thing we can do is check that the `stac` CLI tool is installed and explore the options. Notice the inclusion of the command for this dataset package in stactools now."
            ]
        },
        {
            "cell_type": "code",
            "execution_count": 2,
            "metadata": {},
            "outputs": [
                {
                    "name": "stdout",
                    "output_type": "stream",
                    "text": [
                        "Usage: stac [OPTIONS] COMMAND [ARGS]...\n",
                        "\n",
                        "Options:\n",
                        "  -v, --verbose  Use verbose mode\n",
                        "  -q, --quiet    Use quiet mode (no output)\n",
                        "  --help         Show this message and exit.\n",
                        "\n",
                        "Commands:\n",
                        "  add          Add an item to a catalog/collection.\n",
                        "  addraster    Add raster extension to an Item.\n",
                        "  chesapeake   Commands for working with stactools-chesapeake\n",
                        "  copy         Copy a STAC Catalog\n",
                        "  create-item  Creates an item from an asset\n",
                        "  describe     Prints out a list of all catalogs, collections and items in\n",
                        "               this STAC.\n",
                        "  info         Display info about a static STAC catalog.\n",
                        "  layout       Reformat the layout of a STAC based on templating.\n",
                        "  lint         Lint a stac object with stac-check.\n",
                        "  merge        Merge items from one STAC into another.\n",
                        "  move-assets  Move or copy assets in a STAC to the Item locations.\n",
                        "  validate     Validate a stac object.\n",
                        "  version      Display version info.\n"
                    ]
                }
            ],
            "source": [
                "!stac"
            ]
        },
        {
            "cell_type": "markdown",
            "metadata": {},
            "source": [
                "You can now explore the STAC dataset package commands to ingest and describe the data"
            ]
        },
        {
            "cell_type": "code",
            "execution_count": 3,
            "metadata": {},
            "outputs": [
                {
                    "name": "stdout",
                    "output_type": "stream",
                    "text": [
                        "Usage: stac chesapeake [OPTIONS] COMMAND [ARGS]...\n",
                        "\n",
                        "Options:\n",
                        "  --help  Show this message and exit.\n",
                        "\n",
                        "Commands:\n",
                        "  create-collection   Creates a STAC collection of Chesapeake Conservancy land\n",
                        "                      cover or land use classification tiles\n",
                        "  create-item         Create a STAC Item from chesapeake Land Cover COG file\n",
                        "  remove-nodata-tifs  Removes TIF files that contain only nodata values\n",
                        "  tile                Tiles the input file to a grid\n"
                    ]
                }
            ],
            "source": [
                "!stac chesapeake --help"
            ]
        },
        {
            "cell_type": "markdown",
            "metadata": {},
            "source": [
                "And more specific help with an individual command."
            ]
        },
        {
            "cell_type": "code",
            "execution_count": 4,
            "metadata": {},
            "outputs": [
                {
                    "name": "stdout",
                    "output_type": "stream",
                    "text": [
                        "Usage: stac chesapeake create-item [OPTIONS] INFILE OUTDIR\n",
                        "\n",
                        "  Creates a STAC Item for a tile of Chesapeake Conservancey land cover or land\n",
                        "  use classification data.\n",
                        "\n",
                        "  Args:\n",
                        "      infile (str): HREF of the classification map COG.\n",
                        "      outdir (str): Directory that will contain the STAC Item.\n",
                        "\n",
                        "Options:\n",
                        "  --help  Show this message and exit.\n"
                    ]
                }
            ],
            "source": [
                "!stac chesapeake create-item --help"
            ]
        },
        {
            "cell_type": "markdown",
            "metadata": {},
            "source": [
                "## 3. Using the stactools dataset package from within Python code"
            ]
        },
        {
            "cell_type": "markdown",
            "metadata": {},
            "source": [
                "So far we've used Jupyter Notebooks' IPython [line magic](https://ipython.readthedocs.io/en/stable/interactive/magics.html) to work with stactools packages on the command line, but it's also possible to use them within Python scripts."
            ]
        },
        {
            "cell_type": "code",
            "execution_count": 5,
            "metadata": {},
            "outputs": [
                {
                    "name": "stdout",
                    "output_type": "stream",
                    "text": [
                        "{\n",
                        "    \"type\": \"Feature\",\n",
                        "    \"stac_version\": \"1.0.0\",\n",
                        "    \"id\": \"Baywide_7class_20132014_E1300000_N1770000\",\n",
                        "    \"properties\": {\n",
                        "        \"start_datetime\": \"2013-01-01T00:00:00Z\",\n",
                        "        \"end_datetime\": \"2014-12-31T23:59:59Z\",\n",
                        "        \"created\": \"2022-04-22T13:38:22.179858Z\",\n",
                        "        \"proj:epsg\": null,\n",
                        "        \"proj:wkt2\": \"PROJCS[\\\"USA_Contiguous_Albers_Equal_Area_Conic_USGS_version\\\",GEOGCS[\\\"NAD83\\\",DATUM[\\\"North_American_Datum_1983\\\",SPHEROID[\\\"GRS 1980\\\",6378137,298.257222101004,AUTHORITY[\\\"EPSG\\\",\\\"7019\\\"]],AUTHORITY[\\\"EPSG\\\",\\\"6269\\\"]],PRIMEM[\\\"Greenwich\\\",0],UNIT[\\\"degree\\\",0.0174532925199433,AUTHORITY[\\\"EPSG\\\",\\\"9122\\\"]],AUTHORITY[\\\"EPSG\\\",\\\"4269\\\"]],PROJECTION[\\\"Albers_Conic_Equal_Area\\\"],PARAMETER[\\\"latitude_of_center\\\",23],PARAMETER[\\\"longitude_of_center\\\",-96],PARAMETER[\\\"standard_parallel_1\\\",29.5],PARAMETER[\\\"standard_parallel_2\\\",45.5],PARAMETER[\\\"false_easting\\\",0],PARAMETER[\\\"false_northing\\\",0],UNIT[\\\"metre\\\",1,AUTHORITY[\\\"EPSG\\\",\\\"9001\\\"]],AXIS[\\\"Easting\\\",EAST],AXIS[\\\"Northing\\\",NORTH]]\",\n",
                        "        \"proj:shape\": [\n",
                        "            10000,\n",
                        "            10000\n",
                        "        ],\n",
                        "        \"proj:transform\": [\n",
                        "            1.0,\n",
                        "            0.0,\n",
                        "            1300000.0000000005,\n",
                        "            0.0,\n",
                        "            -1.0,\n",
                        "            1779999.9999999981\n",
                        "        ],\n",
                        "        \"datetime\": null\n",
                        "    },\n",
                        "    \"geometry\": {\n",
                        "        \"type\": \"Polygon\",\n",
                        "        \"coordinates\": [\n",
                        "            [\n",
                        "                [\n",
                        "                    -80.87058455751476,\n",
                        "                    38.02388962499688\n",
                        "                ],\n",
                        "                [\n",
                        "                    -80.85233120138221,\n",
                        "                    38.11197915846243\n",
                        "                ],\n",
                        "                [\n",
                        "                    -80.96603573506756,\n",
                        "                    38.126087169456156\n",
                        "                ],\n",
                        "                [\n",
                        "                    -80.98415672937534,\n",
                        "                    38.037980924093894\n",
                        "                ],\n",
                        "                [\n",
                        "                    -80.87058455751476,\n",
                        "                    38.02388962499688\n",
                        "                ]\n",
                        "            ]\n",
                        "        ]\n",
                        "    },\n",
                        "    \"links\": [],\n",
                        "    \"assets\": {\n",
                        "        \"data\": {\n",
                        "            \"href\": \"/Users/pjh/dev/chesapeake/tests/data-files/Baywide_7class_20132014_E1300000_N1770000.tif\",\n",
                        "            \"type\": \"image/tiff; application=geotiff; profile=cloud-optimized\",\n",
                        "            \"raster:bands\": [\n",
                        "                {\n",
                        "                    \"nodata\": 15,\n",
                        "                    \"sampling\": \"area\",\n",
                        "                    \"data_type\": \"uint8\",\n",
                        "                    \"spatial_resolution\": 1\n",
                        "                }\n",
                        "            ],\n",
                        "            \"classification:classes\": [\n",
                        "                {\n",
                        "                    \"value\": 1,\n",
                        "                    \"description\": \"Water\",\n",
                        "                    \"color-hint\": \"00C5FF\"\n",
                        "                },\n",
                        "                {\n",
                        "                    \"value\": 2,\n",
                        "                    \"description\": \"Tree Canopy and Shrubs\",\n",
                        "                    \"color-hint\": \"267300\"\n",
                        "                },\n",
                        "                {\n",
                        "                    \"value\": 3,\n",
                        "                    \"description\": \"Low Vegetation\",\n",
                        "                    \"color-hint\": \"A3FF73\"\n",
                        "                },\n",
                        "                {\n",
                        "                    \"value\": 4,\n",
                        "                    \"description\": \"Barren\",\n",
                        "                    \"color-hint\": \"FFAA00\"\n",
                        "                },\n",
                        "                {\n",
                        "                    \"value\": 5,\n",
                        "                    \"description\": \"Impervious Surfaces\",\n",
                        "                    \"color-hint\": \"9C9C9C\"\n",
                        "                },\n",
                        "                {\n",
                        "                    \"value\": 6,\n",
                        "                    \"description\": \"Impervious Roads\",\n",
                        "                    \"color-hint\": \"000000\"\n",
                        "                },\n",
                        "                {\n",
                        "                    \"value\": 7,\n",
                        "                    \"description\": \"Aberdeen Proving Ground\",\n",
                        "                    \"color-hint\": \"C500FF\"\n",
                        "                }\n",
                        "            ],\n",
                        "            \"roles\": [\n",
                        "                \"data\"\n",
                        "            ]\n",
                        "        }\n",
                        "    },\n",
                        "    \"bbox\": [\n",
                        "        -80.98415672937534,\n",
                        "        38.02388962499688,\n",
                        "        -80.85233120138221,\n",
                        "        38.126087169456156\n",
                        "    ],\n",
                        "    \"stac_extensions\": [\n",
                        "        \"https://stac-extensions.github.io/projection/v1.0.0/schema.json\",\n",
                        "        \"https://stac-extensions.github.io/raster/v1.0.0/schema.json\",\n",
                        "        \"https://stac-extensions.github.io/classification/v1.0.0/schema.json\"\n",
                        "    ]\n",
                        "}\n"
                    ]
                }
            ],
            "source": [
                "import json\n",
                "\n",
                "from stactools.chesapeake import stac\n",
                "\n",
                "href = \"../tests/data-files/Baywide_7class_20132014_E1300000_N1770000.tif\"\n",
                "item = stac.create_item(href)\n",
                "\n",
                "print(json.dumps(item.to_dict(), indent=4))"
            ]
        },
        {
            "cell_type": "code",
            "execution_count": null,
            "metadata": {},
            "outputs": [],
            "source": []
        }
    ],
    "metadata": {
        "interpreter": {
            "hash": "c2bee1ab741e827a7e677add16aa73fb04c1c623305731aa61866545d78e2921"
        },
        "kernelspec": {
            "display_name": "Python 3.9.5 64-bit ('stactools-spot': conda)",
            "name": "python3"
        },
        "language_info": {
            "codemirror_mode": {
                "name": "ipython",
                "version": 3
            },
            "file_extension": ".py",
            "mimetype": "text/x-python",
            "name": "python",
            "nbconvert_exporter": "python",
            "pygments_lexer": "ipython3",
            "version": "3.10.4"
        }
    },
    "nbformat": 4,
    "nbformat_minor": 5
}
