{
    "cells": [
        {
            "cell_type": "markdown",
            "metadata": {},
            "source": [
                "# Tutorial: Working with this stactools subpackage\n",
                "\n",
                "Stactools ([docs](https://stactools.readthedocs.io/en/latest/), [source](https://github.com/stac-utils/stactools)) is a command line tool and library for working with [STAC](https://stacspec.org/), based on [PySTAC](https://github.com/stac-utils/pystac).\n",
                "\n",
                "[Stactools dataset packages](https://github.com/stactools-packages) are add-ons for stactools that provide STAC functionality for specific datasets, such as [Sentinel 2](https://github.com/stactools-packages/sentinel2) and [Landsat](https://github.com/stactools-packages/landsat).\n",
                "\n",
                "Stactools and its dataset packages can be accessed from the CLI or from within normal Python code. This notebook provides examples of both."
            ]
        },
        {
            "cell_type": "markdown",
            "metadata": {},
            "source": [
                "## 1. Using this notebook\n",
                "\n",
                "The easiest way to use this notebook is to run it through `scripts/notebook`. This will create a Docker container already set up with the prerequisites and open the stactools dataset folder. Navigate to `docs/` to find this notebook.\n",
                "\n",
                "If you wish to use this notebook outside of the container (such as on mybinder.org) then please install the prerequisites using:"
            ]
        },
        {
            "cell_type": "code",
            "execution_count": null,
            "metadata": {},
            "outputs": [],
            "source": [
                "!pip install stactools-chesapeake"
            ]
        },
        {
            "cell_type": "markdown",
            "metadata": {},
            "source": [
                "## 2. Using the stactools dataset package from the CLI"
            ]
        },
        {
            "cell_type": "markdown",
            "metadata": {},
            "source": [
                "The first thing we can do is check that the `stac` CLI tool is installed and explore the options. Notice the inclusion of the command for this dataset package in stactools now."
            ]
        },
        {
            "cell_type": "code",
            "execution_count": null,
            "metadata": {},
            "outputs": [],
            "source": [
                "!stac"
            ]
        },
        {
            "cell_type": "markdown",
            "metadata": {},
            "source": [
                "You can now explore the STAC dataset package commands to ingest and describe the data"
            ]
        },
        {
            "cell_type": "code",
            "execution_count": null,
            "metadata": {},
            "outputs": [],
            "source": [
                "!stac chesapeake --help"
            ]
        },
        {
            "cell_type": "markdown",
            "metadata": {},
            "source": [
                "And more specific help with an individual command."
            ]
        },
        {
            "cell_type": "code",
            "execution_count": null,
            "metadata": {},
            "outputs": [],
            "source": [
                "!stac chesapeake create-item --help"
            ]
        },
        {
            "cell_type": "markdown",
            "metadata": {},
            "source": [
                "## 3. Using the stactools dataset package from within Python code"
            ]
        },
        {
            "cell_type": "markdown",
            "metadata": {},
            "source": [
                "So far we've used Jupyter Notebooks' IPython [line magic](https://ipython.readthedocs.io/en/stable/interactive/magics.html) to work with stactools packages on the command line, but it's also possible to use them within Python scripts."
            ]
        },
        {
            "cell_type": "code",
            "execution_count": 1,
            "metadata": {},
            "outputs": [
                {
                    "name": "stdout",
                    "output_type": "stream",
                    "text": [
                        "{\n",
                        "    \"type\": \"Feature\",\n",
                        "    \"stac_version\": \"1.0.0\",\n",
                        "    \"id\": \"Baywide_7class_20132014_E1300000_N1770000\",\n",
                        "    \"properties\": {\n",
                        "        \"start_datetime\": \"2013-01-01T00:00:00Z\",\n",
                        "        \"end_datetime\": \"2014-12-31T23:59:59Z\",\n",
                        "        \"created\": \"2022-04-21T13:50:13.667754Z\",\n",
                        "        \"proj:epsg\": null,\n",
                        "        \"proj:wkt2\": \"PROJCS[\\\"USA_Contiguous_Albers_Equal_Area_Conic_USGS_version\\\",GEOGCS[\\\"NAD83\\\",DATUM[\\\"North_American_Datum_1983\\\",SPHEROID[\\\"GRS 1980\\\",6378137,298.257222101004,AUTHORITY[\\\"EPSG\\\",\\\"7019\\\"]],AUTHORITY[\\\"EPSG\\\",\\\"6269\\\"]],PRIMEM[\\\"Greenwich\\\",0],UNIT[\\\"degree\\\",0.0174532925199433,AUTHORITY[\\\"EPSG\\\",\\\"9122\\\"]],AUTHORITY[\\\"EPSG\\\",\\\"4269\\\"]],PROJECTION[\\\"Albers_Conic_Equal_Area\\\"],PARAMETER[\\\"latitude_of_center\\\",23],PARAMETER[\\\"longitude_of_center\\\",-96],PARAMETER[\\\"standard_parallel_1\\\",29.5],PARAMETER[\\\"standard_parallel_2\\\",45.5],PARAMETER[\\\"false_easting\\\",0],PARAMETER[\\\"false_northing\\\",0],UNIT[\\\"metre\\\",1,AUTHORITY[\\\"EPSG\\\",\\\"9001\\\"]],AXIS[\\\"Easting\\\",EAST],AXIS[\\\"Northing\\\",NORTH]]\",\n",
                        "        \"proj:shape\": [\n",
                        "            10000,\n",
                        "            10000\n",
                        "        ],\n",
                        "        \"proj:transform\": [\n",
                        "            1.0,\n",
                        "            0.0,\n",
                        "            1300000.0000000005,\n",
                        "            0.0,\n",
                        "            -1.0,\n",
                        "            1779999.9999999981\n",
                        "        ],\n",
                        "        \"datetime\": null\n",
                        "    },\n",
                        "    \"geometry\": {\n",
                        "        \"type\": \"Polygon\",\n",
                        "        \"coordinates\": [\n",
                        "            [\n",
                        "                [\n",
                        "                    -80.87058455751476,\n",
                        "                    38.02388962499688\n",
                        "                ],\n",
                        "                [\n",
                        "                    -80.85233120138221,\n",
                        "                    38.11197915846243\n",
                        "                ],\n",
                        "                [\n",
                        "                    -80.96603573506756,\n",
                        "                    38.126087169456156\n",
                        "                ],\n",
                        "                [\n",
                        "                    -80.98415672937534,\n",
                        "                    38.037980924093894\n",
                        "                ],\n",
                        "                [\n",
                        "                    -80.87058455751476,\n",
                        "                    38.02388962499688\n",
                        "                ]\n",
                        "            ]\n",
                        "        ]\n",
                        "    },\n",
                        "    \"links\": [],\n",
                        "    \"assets\": {\n",
                        "        \"data\": {\n",
                        "            \"href\": \"/Users/pjh/dev/chesapeake/tests/data-files/Baywide_7class_20132014_E1300000_N1770000.tif\",\n",
                        "            \"type\": \"image/tiff; application=geotiff; profile=cloud-optimized\",\n",
                        "            \"raster:bands\": [\n",
                        "                {\n",
                        "                    \"nodata\": 15,\n",
                        "                    \"sampling\": \"area\",\n",
                        "                    \"data_type\": \"uint8\",\n",
                        "                    \"spatial_resolution\": 1\n",
                        "                }\n",
                        "            ],\n",
                        "            \"classification:classes\": [\n",
                        "                {\n",
                        "                    \"value\": 1,\n",
                        "                    \"description\": \"Water\",\n",
                        "                    \"color-hint\": \"00C5FF\"\n",
                        "                },\n",
                        "                {\n",
                        "                    \"value\": 2,\n",
                        "                    \"description\": \"Tree Canopy and Shrubs\",\n",
                        "                    \"color-hint\": \"267300\"\n",
                        "                },\n",
                        "                {\n",
                        "                    \"value\": 3,\n",
                        "                    \"description\": \"Low Vegetation\",\n",
                        "                    \"color-hint\": \"A3FF73\"\n",
                        "                },\n",
                        "                {\n",
                        "                    \"value\": 4,\n",
                        "                    \"description\": \"Barren\",\n",
                        "                    \"color-hint\": \"FFAA00\"\n",
                        "                },\n",
                        "                {\n",
                        "                    \"value\": 5,\n",
                        "                    \"description\": \"Impervious Surfaces\",\n",
                        "                    \"color-hint\": \"9C9C9C\"\n",
                        "                },\n",
                        "                {\n",
                        "                    \"value\": 6,\n",
                        "                    \"description\": \"Impervious Roads\",\n",
                        "                    \"color-hint\": \"000000\"\n",
                        "                },\n",
                        "                {\n",
                        "                    \"value\": 7,\n",
                        "                    \"description\": \"Aberdeen Proving Ground\",\n",
                        "                    \"color-hint\": \"C500FF\"\n",
                        "                }\n",
                        "            ],\n",
                        "            \"roles\": [\n",
                        "                \"data\"\n",
                        "            ]\n",
                        "        }\n",
                        "    },\n",
                        "    \"bbox\": [\n",
                        "        -80.98415672937534,\n",
                        "        38.02388962499688,\n",
                        "        -80.85233120138221,\n",
                        "        38.126087169456156\n",
                        "    ],\n",
                        "    \"stac_extensions\": [\n",
                        "        \"https://stac-extensions.github.io/projection/v1.0.0/schema.json\",\n",
                        "        \"https://stac-extensions.github.io/raster/v1.0.0/schema.json\",\n",
                        "        \"https://stac-extensions.github.io/classification/v1.0.0/schema.json\"\n",
                        "    ]\n",
                        "}\n"
                    ]
                }
            ],
            "source": [
                "import json\n",
                "\n",
                "from stactools.chesapeake import stac\n",
                "\n",
                "href = \"../tests/data-files/Baywide_7class_20132014_E1300000_N1770000.tif\"\n",
                "collection_id = \"chesapeake-lc-7\"\n",
                "item = stac.create_item(href, collection_id)\n",
                "\n",
                "print(json.dumps(item.to_dict(), indent=4))"
            ]
        },
        {
            "cell_type": "code",
            "execution_count": null,
            "metadata": {},
            "outputs": [],
            "source": []
        }
    ],
    "metadata": {
        "interpreter": {
            "hash": "c2bee1ab741e827a7e677add16aa73fb04c1c623305731aa61866545d78e2921"
        },
        "kernelspec": {
            "display_name": "Python 3.9.5 64-bit ('stactools-spot': conda)",
            "name": "python3"
        },
        "language_info": {
            "codemirror_mode": {
                "name": "ipython",
                "version": 3
            },
            "file_extension": ".py",
            "mimetype": "text/x-python",
            "name": "python",
            "nbconvert_exporter": "python",
            "pygments_lexer": "ipython3",
            "version": "3.10.4"
        }
    },
    "nbformat": 4,
    "nbformat_minor": 5
}
